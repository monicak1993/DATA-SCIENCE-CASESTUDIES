{
 "cells": [
  {
   "cell_type": "code",
   "execution_count": 1,
   "id": "ed2c7767",
   "metadata": {},
   "outputs": [],
   "source": [
    "import numpy as np\n",
    "import pandas as pd\n",
    "import matplotlib.pyplot as plt\n",
    "import seaborn as sns\n",
    "%matplotlib inline\n"
   ]
  },
  {
   "cell_type": "code",
   "execution_count": 71,
   "id": "bc22e4ed",
   "metadata": {},
   "outputs": [],
   "source": [
    "cust_acq=pd.read_csv('/Users/arunbiretheesh/Desktop/DATA SCIENCE/CASE STUDY/Case Study 2 - Credit Card/Customer Acqusition.csv')\n",
    "spend=pd.read_csv('/Users/arunbiretheesh/Desktop/DATA SCIENCE/CASE STUDY/Case Study 2 - Credit Card/spend.csv')\n",
    "repayment=pd.read_csv('/Users/arunbiretheesh/Desktop/DATA SCIENCE/CASE STUDY/Case Study 2 - Credit Card/Repayment.csv')"
   ]
  },
  {
   "cell_type": "code",
   "execution_count": 72,
   "id": "40e90020",
   "metadata": {},
   "outputs": [],
   "source": [
    "repayment.drop(columns=['Unnamed: 4','SL No:'],inplace=True)"
   ]
  },
  {
   "cell_type": "code",
   "execution_count": 73,
   "id": "0f98cd7e",
   "metadata": {},
   "outputs": [],
   "source": [
    "repayment.dropna(axis=0,inplace=True)"
   ]
  },
  {
   "cell_type": "code",
   "execution_count": 74,
   "id": "e67a61d2",
   "metadata": {},
   "outputs": [
    {
     "data": {
      "text/plain": [
       "Customer    0\n",
       "Month       0\n",
       "Amount      0\n",
       "dtype: int64"
      ]
     },
     "execution_count": 74,
     "metadata": {},
     "output_type": "execute_result"
    }
   ],
   "source": [
    "repayment.isnull().sum()"
   ]
  },
  {
   "cell_type": "code",
   "execution_count": 75,
   "id": "57dd2938",
   "metadata": {},
   "outputs": [],
   "source": [
    "cust_acq.drop(columns=['No'],inplace=True)"
   ]
  },
  {
   "cell_type": "code",
   "execution_count": 76,
   "id": "523b0102",
   "metadata": {},
   "outputs": [],
   "source": [
    "spend.drop(columns=['Sl No:'],inplace=True)"
   ]
  },
  {
   "cell_type": "code",
   "execution_count": 141,
   "id": "83adc5bc",
   "metadata": {},
   "outputs": [],
   "source": [
    "spend['Month']=pd.to_datetime(spend['Month'],format='%d-%b-%y')\n",
    "repayment['Month']=pd.to_datetime(repayment['Month'],format='%d-%b-%y')"
   ]
  },
  {
   "cell_type": "code",
   "execution_count": 142,
   "id": "fae5d1e4",
   "metadata": {},
   "outputs": [],
   "source": [
    "#1. In the above dataset,\n",
    "#a. In case age is less than 18, replace it with mean of age values.\n",
    "cust_acq.loc[cust_acq.Age<18]=cust_acq.Age.mean()\n"
   ]
  },
  {
   "cell_type": "code",
   "execution_count": 143,
   "id": "1cef8190",
   "metadata": {},
   "outputs": [],
   "source": [
    "#b. In case spend amount is more than the limit, replace it with 50% of that customer’s limit. (customer’s limit provided in acquisition table is the per transaction limit on his card)\n",
    "cust_spend=pd.merge(left=cust_acq,right=spend,on='Customer',how='inner')"
   ]
  },
  {
   "cell_type": "code",
   "execution_count": 389,
   "id": "50f6492b",
   "metadata": {},
   "outputs": [],
   "source": [
    "cust_spend.loc[cust_spend.Amount>cust_spend.Limit,'Amount']=cust_spend.Limit/2\n",
    "cust_spend"
   ]
  },
  {
   "cell_type": "code",
   "execution_count": 147,
   "id": "d92d48ab",
   "metadata": {},
   "outputs": [],
   "source": [
    "#c. Incase the repayment amount is more than the limit, replace the repayment with the limit.\n",
    "\n",
    "cust_repay=pd.merge(left=cust_acq,right=repayment,on='Customer',how='inner')\n"
   ]
  },
  {
   "cell_type": "code",
   "execution_count": 149,
   "id": "9d9f79b8",
   "metadata": {},
   "outputs": [],
   "source": [
    "cust_repay.loc[cust_repay.Amount>cust_repay.Limit,'Amount']=cust_repay.Limit"
   ]
  },
  {
   "cell_type": "code",
   "execution_count": 150,
   "id": "08d5c0df",
   "metadata": {},
   "outputs": [
    {
     "data": {
      "text/html": [
       "<div>\n",
       "<style scoped>\n",
       "    .dataframe tbody tr th:only-of-type {\n",
       "        vertical-align: middle;\n",
       "    }\n",
       "\n",
       "    .dataframe tbody tr th {\n",
       "        vertical-align: top;\n",
       "    }\n",
       "\n",
       "    .dataframe thead th {\n",
       "        text-align: right;\n",
       "    }\n",
       "</style>\n",
       "<table border=\"1\" class=\"dataframe\">\n",
       "  <thead>\n",
       "    <tr style=\"text-align: right;\">\n",
       "      <th></th>\n",
       "      <th>Customer</th>\n",
       "      <th>Age</th>\n",
       "      <th>City</th>\n",
       "      <th>Product</th>\n",
       "      <th>Limit</th>\n",
       "      <th>Company</th>\n",
       "      <th>Segment</th>\n",
       "      <th>Month</th>\n",
       "      <th>Amount</th>\n",
       "    </tr>\n",
       "  </thead>\n",
       "  <tbody>\n",
       "    <tr>\n",
       "      <th>0</th>\n",
       "      <td>A1</td>\n",
       "      <td>76.0</td>\n",
       "      <td>BANGALORE</td>\n",
       "      <td>Gold</td>\n",
       "      <td>500000.0</td>\n",
       "      <td>C1</td>\n",
       "      <td>Self Employed</td>\n",
       "      <td>2004-01-12</td>\n",
       "      <td>495414.75</td>\n",
       "    </tr>\n",
       "    <tr>\n",
       "      <th>1</th>\n",
       "      <td>A1</td>\n",
       "      <td>76.0</td>\n",
       "      <td>BANGALORE</td>\n",
       "      <td>Gold</td>\n",
       "      <td>500000.0</td>\n",
       "      <td>C1</td>\n",
       "      <td>Self Employed</td>\n",
       "      <td>2004-01-03</td>\n",
       "      <td>245899.02</td>\n",
       "    </tr>\n",
       "    <tr>\n",
       "      <th>2</th>\n",
       "      <td>A1</td>\n",
       "      <td>76.0</td>\n",
       "      <td>BANGALORE</td>\n",
       "      <td>Gold</td>\n",
       "      <td>500000.0</td>\n",
       "      <td>C1</td>\n",
       "      <td>Self Employed</td>\n",
       "      <td>2004-01-15</td>\n",
       "      <td>259490.06</td>\n",
       "    </tr>\n",
       "    <tr>\n",
       "      <th>3</th>\n",
       "      <td>A1</td>\n",
       "      <td>76.0</td>\n",
       "      <td>BANGALORE</td>\n",
       "      <td>Gold</td>\n",
       "      <td>500000.0</td>\n",
       "      <td>C1</td>\n",
       "      <td>Self Employed</td>\n",
       "      <td>2004-01-25</td>\n",
       "      <td>437555.12</td>\n",
       "    </tr>\n",
       "    <tr>\n",
       "      <th>4</th>\n",
       "      <td>A1</td>\n",
       "      <td>76.0</td>\n",
       "      <td>BANGALORE</td>\n",
       "      <td>Gold</td>\n",
       "      <td>500000.0</td>\n",
       "      <td>C1</td>\n",
       "      <td>Self Employed</td>\n",
       "      <td>2005-01-17</td>\n",
       "      <td>165972.88</td>\n",
       "    </tr>\n",
       "    <tr>\n",
       "      <th>...</th>\n",
       "      <td>...</td>\n",
       "      <td>...</td>\n",
       "      <td>...</td>\n",
       "      <td>...</td>\n",
       "      <td>...</td>\n",
       "      <td>...</td>\n",
       "      <td>...</td>\n",
       "      <td>...</td>\n",
       "      <td>...</td>\n",
       "    </tr>\n",
       "    <tr>\n",
       "      <th>1425</th>\n",
       "      <td>A96</td>\n",
       "      <td>54.0</td>\n",
       "      <td>CHENNAI</td>\n",
       "      <td>Silver</td>\n",
       "      <td>100000.0</td>\n",
       "      <td>C19</td>\n",
       "      <td>Salaried_Pvt</td>\n",
       "      <td>2004-01-25</td>\n",
       "      <td>100000.00</td>\n",
       "    </tr>\n",
       "    <tr>\n",
       "      <th>1426</th>\n",
       "      <td>A97</td>\n",
       "      <td>58.0</td>\n",
       "      <td>TRIVANDRUM</td>\n",
       "      <td>Platimum</td>\n",
       "      <td>10000.0</td>\n",
       "      <td>C20</td>\n",
       "      <td>Govt</td>\n",
       "      <td>2004-01-12</td>\n",
       "      <td>10000.00</td>\n",
       "    </tr>\n",
       "    <tr>\n",
       "      <th>1427</th>\n",
       "      <td>A98</td>\n",
       "      <td>51.0</td>\n",
       "      <td>CALCUTTA</td>\n",
       "      <td>Platimum</td>\n",
       "      <td>10001.0</td>\n",
       "      <td>C21</td>\n",
       "      <td>Normal Salary</td>\n",
       "      <td>2004-01-03</td>\n",
       "      <td>10001.00</td>\n",
       "    </tr>\n",
       "    <tr>\n",
       "      <th>1428</th>\n",
       "      <td>A99</td>\n",
       "      <td>35.0</td>\n",
       "      <td>CALCUTTA</td>\n",
       "      <td>Platimum</td>\n",
       "      <td>10002.0</td>\n",
       "      <td>C22</td>\n",
       "      <td>Self Employed</td>\n",
       "      <td>2004-01-15</td>\n",
       "      <td>10002.00</td>\n",
       "    </tr>\n",
       "    <tr>\n",
       "      <th>1429</th>\n",
       "      <td>A100</td>\n",
       "      <td>36.0</td>\n",
       "      <td>COCHIN</td>\n",
       "      <td>Silver</td>\n",
       "      <td>100000.0</td>\n",
       "      <td>C5</td>\n",
       "      <td>Salaried_MNC</td>\n",
       "      <td>2004-01-25</td>\n",
       "      <td>69551.19</td>\n",
       "    </tr>\n",
       "  </tbody>\n",
       "</table>\n",
       "<p>1430 rows × 9 columns</p>\n",
       "</div>"
      ],
      "text/plain": [
       "     Customer   Age        City   Product     Limit Company        Segment  \\\n",
       "0          A1  76.0   BANGALORE      Gold  500000.0      C1  Self Employed   \n",
       "1          A1  76.0   BANGALORE      Gold  500000.0      C1  Self Employed   \n",
       "2          A1  76.0   BANGALORE      Gold  500000.0      C1  Self Employed   \n",
       "3          A1  76.0   BANGALORE      Gold  500000.0      C1  Self Employed   \n",
       "4          A1  76.0   BANGALORE      Gold  500000.0      C1  Self Employed   \n",
       "...       ...   ...         ...       ...       ...     ...            ...   \n",
       "1425      A96  54.0     CHENNAI    Silver  100000.0     C19   Salaried_Pvt   \n",
       "1426      A97  58.0  TRIVANDRUM  Platimum   10000.0     C20           Govt   \n",
       "1427      A98  51.0    CALCUTTA  Platimum   10001.0     C21  Normal Salary   \n",
       "1428      A99  35.0    CALCUTTA  Platimum   10002.0     C22  Self Employed   \n",
       "1429     A100  36.0      COCHIN    Silver  100000.0      C5   Salaried_MNC   \n",
       "\n",
       "          Month     Amount  \n",
       "0    2004-01-12  495414.75  \n",
       "1    2004-01-03  245899.02  \n",
       "2    2004-01-15  259490.06  \n",
       "3    2004-01-25  437555.12  \n",
       "4    2005-01-17  165972.88  \n",
       "...         ...        ...  \n",
       "1425 2004-01-25  100000.00  \n",
       "1426 2004-01-12   10000.00  \n",
       "1427 2004-01-03   10001.00  \n",
       "1428 2004-01-15   10002.00  \n",
       "1429 2004-01-25   69551.19  \n",
       "\n",
       "[1430 rows x 9 columns]"
      ]
     },
     "execution_count": 150,
     "metadata": {},
     "output_type": "execute_result"
    }
   ],
   "source": [
    "cust_repay"
   ]
  },
  {
   "cell_type": "code",
   "execution_count": 151,
   "id": "9698cff6",
   "metadata": {},
   "outputs": [
    {
     "data": {
      "text/plain": [
       "94"
      ]
     },
     "execution_count": 151,
     "metadata": {},
     "output_type": "execute_result"
    }
   ],
   "source": [
    "#2. From the above dataset create the following summaries: \n",
    "#a. How many distinct customers exist?\n",
    "cust_spend.Customer.nunique()"
   ]
  },
  {
   "cell_type": "code",
   "execution_count": 152,
   "id": "58d7201e",
   "metadata": {},
   "outputs": [
    {
     "data": {
      "text/plain": [
       "94"
      ]
     },
     "execution_count": 152,
     "metadata": {},
     "output_type": "execute_result"
    }
   ],
   "source": [
    "cust_repay.Customer.nunique()"
   ]
  },
  {
   "cell_type": "code",
   "execution_count": 387,
   "id": "2ebd5283",
   "metadata": {},
   "outputs": [
    {
     "data": {
      "text/plain": [
       "1430"
      ]
     },
     "execution_count": 387,
     "metadata": {},
     "output_type": "execute_result"
    }
   ],
   "source": [
    "#b. How many distinct categories exist?\n",
    "cust_spend.Product.value_counts().count()"
   ]
  },
  {
   "cell_type": "code",
   "execution_count": 388,
   "id": "0659f574",
   "metadata": {},
   "outputs": [
    {
     "data": {
      "text/plain": [
       "3"
      ]
     },
     "execution_count": 388,
     "metadata": {},
     "output_type": "execute_result"
    }
   ],
   "source": [
    "cust_repay.Product.value_counts().count()"
   ]
  },
  {
   "cell_type": "code",
   "execution_count": 198,
   "id": "6ab59c06",
   "metadata": {},
   "outputs": [],
   "source": [
    "#c. What is the average monthly spend by customers?\n"
   ]
  },
  {
   "cell_type": "code",
   "execution_count": 171,
   "id": "11c0d252",
   "metadata": {},
   "outputs": [],
   "source": [
    "avg=cust_spend.groupby(['Customer','Month'])['Amount'].mean().reset_index()"
   ]
  },
  {
   "cell_type": "code",
   "execution_count": 195,
   "id": "c60b3694",
   "metadata": {},
   "outputs": [],
   "source": [
    "avg['spend_month']=avg.Month.apply(lambda x:x.month)"
   ]
  },
  {
   "cell_type": "code",
   "execution_count": 199,
   "id": "e5aead20",
   "metadata": {},
   "outputs": [
    {
     "data": {
      "text/html": [
       "<div>\n",
       "<style scoped>\n",
       "    .dataframe tbody tr th:only-of-type {\n",
       "        vertical-align: middle;\n",
       "    }\n",
       "\n",
       "    .dataframe tbody tr th {\n",
       "        vertical-align: top;\n",
       "    }\n",
       "\n",
       "    .dataframe thead th {\n",
       "        text-align: right;\n",
       "    }\n",
       "</style>\n",
       "<table border=\"1\" class=\"dataframe\">\n",
       "  <thead>\n",
       "    <tr style=\"text-align: right;\">\n",
       "      <th></th>\n",
       "      <th>Customer</th>\n",
       "      <th>spend_month</th>\n",
       "      <th>Amount</th>\n",
       "    </tr>\n",
       "  </thead>\n",
       "  <tbody>\n",
       "    <tr>\n",
       "      <th>0</th>\n",
       "      <td>A1</td>\n",
       "      <td>1</td>\n",
       "      <td>341332.87700</td>\n",
       "    </tr>\n",
       "    <tr>\n",
       "      <th>1</th>\n",
       "      <td>A1</td>\n",
       "      <td>2</td>\n",
       "      <td>138421.15125</td>\n",
       "    </tr>\n",
       "    <tr>\n",
       "      <th>2</th>\n",
       "      <td>A1</td>\n",
       "      <td>4</td>\n",
       "      <td>261649.25000</td>\n",
       "    </tr>\n",
       "    <tr>\n",
       "      <th>3</th>\n",
       "      <td>A1</td>\n",
       "      <td>5</td>\n",
       "      <td>361141.31000</td>\n",
       "    </tr>\n",
       "    <tr>\n",
       "      <th>4</th>\n",
       "      <td>A1</td>\n",
       "      <td>8</td>\n",
       "      <td>344372.10000</td>\n",
       "    </tr>\n",
       "    <tr>\n",
       "      <th>...</th>\n",
       "      <td>...</td>\n",
       "      <td>...</td>\n",
       "      <td>...</td>\n",
       "    </tr>\n",
       "    <tr>\n",
       "      <th>545</th>\n",
       "      <td>A95</td>\n",
       "      <td>1</td>\n",
       "      <td>240401.50000</td>\n",
       "    </tr>\n",
       "    <tr>\n",
       "      <th>546</th>\n",
       "      <td>A96</td>\n",
       "      <td>1</td>\n",
       "      <td>54729.66000</td>\n",
       "    </tr>\n",
       "    <tr>\n",
       "      <th>547</th>\n",
       "      <td>A97</td>\n",
       "      <td>1</td>\n",
       "      <td>5000.00000</td>\n",
       "    </tr>\n",
       "    <tr>\n",
       "      <th>548</th>\n",
       "      <td>A98</td>\n",
       "      <td>1</td>\n",
       "      <td>5000.50000</td>\n",
       "    </tr>\n",
       "    <tr>\n",
       "      <th>549</th>\n",
       "      <td>A99</td>\n",
       "      <td>1</td>\n",
       "      <td>5001.00000</td>\n",
       "    </tr>\n",
       "  </tbody>\n",
       "</table>\n",
       "<p>550 rows × 3 columns</p>\n",
       "</div>"
      ],
      "text/plain": [
       "    Customer  spend_month        Amount\n",
       "0         A1            1  341332.87700\n",
       "1         A1            2  138421.15125\n",
       "2         A1            4  261649.25000\n",
       "3         A1            5  361141.31000\n",
       "4         A1            8  344372.10000\n",
       "..       ...          ...           ...\n",
       "545      A95            1  240401.50000\n",
       "546      A96            1   54729.66000\n",
       "547      A97            1    5000.00000\n",
       "548      A98            1    5000.50000\n",
       "549      A99            1    5001.00000\n",
       "\n",
       "[550 rows x 3 columns]"
      ]
     },
     "execution_count": 199,
     "metadata": {},
     "output_type": "execute_result"
    }
   ],
   "source": [
    "avg_spend=avg.groupby(['Customer','spend_month'])['Amount'].mean().reset_index()\n",
    "avg_spend"
   ]
  },
  {
   "cell_type": "code",
   "execution_count": 200,
   "id": "c70b199c",
   "metadata": {},
   "outputs": [],
   "source": [
    "#d. What is the average monthly repayment by customers?"
   ]
  },
  {
   "cell_type": "code",
   "execution_count": 208,
   "id": "3aeb53e0",
   "metadata": {},
   "outputs": [],
   "source": [
    "average=cust_repay.groupby(['Customer','Month'])['Amount'].mean().reset_index()"
   ]
  },
  {
   "cell_type": "code",
   "execution_count": 213,
   "id": "b0f731b4",
   "metadata": {},
   "outputs": [
    {
     "data": {
      "text/html": [
       "<div>\n",
       "<style scoped>\n",
       "    .dataframe tbody tr th:only-of-type {\n",
       "        vertical-align: middle;\n",
       "    }\n",
       "\n",
       "    .dataframe tbody tr th {\n",
       "        vertical-align: top;\n",
       "    }\n",
       "\n",
       "    .dataframe thead th {\n",
       "        text-align: right;\n",
       "    }\n",
       "</style>\n",
       "<table border=\"1\" class=\"dataframe\">\n",
       "  <thead>\n",
       "    <tr style=\"text-align: right;\">\n",
       "      <th></th>\n",
       "      <th>Customer</th>\n",
       "      <th>repay_month</th>\n",
       "      <th>Amount</th>\n",
       "    </tr>\n",
       "  </thead>\n",
       "  <tbody>\n",
       "    <tr>\n",
       "      <th>0</th>\n",
       "      <td>A1</td>\n",
       "      <td>1</td>\n",
       "      <td>325723.331</td>\n",
       "    </tr>\n",
       "    <tr>\n",
       "      <th>1</th>\n",
       "      <td>A1</td>\n",
       "      <td>2</td>\n",
       "      <td>137713.785</td>\n",
       "    </tr>\n",
       "    <tr>\n",
       "      <th>2</th>\n",
       "      <td>A1</td>\n",
       "      <td>4</td>\n",
       "      <td>254474.580</td>\n",
       "    </tr>\n",
       "    <tr>\n",
       "      <th>3</th>\n",
       "      <td>A1</td>\n",
       "      <td>7</td>\n",
       "      <td>297176.740</td>\n",
       "    </tr>\n",
       "    <tr>\n",
       "      <th>4</th>\n",
       "      <td>A1</td>\n",
       "      <td>9</td>\n",
       "      <td>186427.500</td>\n",
       "    </tr>\n",
       "    <tr>\n",
       "      <th>...</th>\n",
       "      <td>...</td>\n",
       "      <td>...</td>\n",
       "      <td>...</td>\n",
       "    </tr>\n",
       "    <tr>\n",
       "      <th>526</th>\n",
       "      <td>A95</td>\n",
       "      <td>1</td>\n",
       "      <td>369405.960</td>\n",
       "    </tr>\n",
       "    <tr>\n",
       "      <th>527</th>\n",
       "      <td>A96</td>\n",
       "      <td>1</td>\n",
       "      <td>100000.000</td>\n",
       "    </tr>\n",
       "    <tr>\n",
       "      <th>528</th>\n",
       "      <td>A97</td>\n",
       "      <td>1</td>\n",
       "      <td>10000.000</td>\n",
       "    </tr>\n",
       "    <tr>\n",
       "      <th>529</th>\n",
       "      <td>A98</td>\n",
       "      <td>1</td>\n",
       "      <td>10001.000</td>\n",
       "    </tr>\n",
       "    <tr>\n",
       "      <th>530</th>\n",
       "      <td>A99</td>\n",
       "      <td>1</td>\n",
       "      <td>10002.000</td>\n",
       "    </tr>\n",
       "  </tbody>\n",
       "</table>\n",
       "<p>531 rows × 3 columns</p>\n",
       "</div>"
      ],
      "text/plain": [
       "    Customer  repay_month      Amount\n",
       "0         A1            1  325723.331\n",
       "1         A1            2  137713.785\n",
       "2         A1            4  254474.580\n",
       "3         A1            7  297176.740\n",
       "4         A1            9  186427.500\n",
       "..       ...          ...         ...\n",
       "526      A95            1  369405.960\n",
       "527      A96            1  100000.000\n",
       "528      A97            1   10000.000\n",
       "529      A98            1   10001.000\n",
       "530      A99            1   10002.000\n",
       "\n",
       "[531 rows x 3 columns]"
      ]
     },
     "execution_count": 213,
     "metadata": {},
     "output_type": "execute_result"
    }
   ],
   "source": [
    "average['repay_month']=average.Month.apply(lambda x:x.month)\n",
    "avg_repay=average.groupby(['Customer','repay_month'])['Amount'].mean().reset_index()\n",
    "avg_repay"
   ]
  },
  {
   "cell_type": "code",
   "execution_count": null,
   "id": "310b241d",
   "metadata": {},
   "outputs": [],
   "source": [
    "#e. If the monthly rate of interest is 2.9%, \n",
    "#what is the profit for the bank for each month? (Profit is defined as interest earned on Monthly Profit. Monthly Profit = Monthly repayment – Monthly spend. Interest is earned only on positive profits and not on negative amounts)"
   ]
  },
  {
   "cell_type": "code",
   "execution_count": 226,
   "id": "5b62fff6",
   "metadata": {},
   "outputs": [],
   "source": [
    "avg_cust=pd.merge(left=avg_spend,right=avg_repay,left_on=['Customer','spend_month'],right_on=['Customer','repay_month'],how='inner')"
   ]
  },
  {
   "cell_type": "code",
   "execution_count": 235,
   "id": "d3cc6562",
   "metadata": {},
   "outputs": [
    {
     "data": {
      "text/html": [
       "<div>\n",
       "<style scoped>\n",
       "    .dataframe tbody tr th:only-of-type {\n",
       "        vertical-align: middle;\n",
       "    }\n",
       "\n",
       "    .dataframe tbody tr th {\n",
       "        vertical-align: top;\n",
       "    }\n",
       "\n",
       "    .dataframe thead th {\n",
       "        text-align: right;\n",
       "    }\n",
       "</style>\n",
       "<table border=\"1\" class=\"dataframe\">\n",
       "  <thead>\n",
       "    <tr style=\"text-align: right;\">\n",
       "      <th></th>\n",
       "      <th>Customer</th>\n",
       "      <th>spend_month</th>\n",
       "      <th>Amount_x</th>\n",
       "      <th>repay_month</th>\n",
       "      <th>Amount_y</th>\n",
       "      <th>profit</th>\n",
       "      <th>monthly_profit</th>\n",
       "    </tr>\n",
       "  </thead>\n",
       "  <tbody>\n",
       "    <tr>\n",
       "      <th>0</th>\n",
       "      <td>A1</td>\n",
       "      <td>1</td>\n",
       "      <td>341332.87700</td>\n",
       "      <td>1</td>\n",
       "      <td>325723.331000</td>\n",
       "      <td>NaN</td>\n",
       "      <td>-15609.546000</td>\n",
       "    </tr>\n",
       "    <tr>\n",
       "      <th>1</th>\n",
       "      <td>A1</td>\n",
       "      <td>2</td>\n",
       "      <td>138421.15125</td>\n",
       "      <td>2</td>\n",
       "      <td>137713.785000</td>\n",
       "      <td>NaN</td>\n",
       "      <td>-707.366250</td>\n",
       "    </tr>\n",
       "    <tr>\n",
       "      <th>2</th>\n",
       "      <td>A1</td>\n",
       "      <td>4</td>\n",
       "      <td>261649.25000</td>\n",
       "      <td>4</td>\n",
       "      <td>254474.580000</td>\n",
       "      <td>NaN</td>\n",
       "      <td>-7174.670000</td>\n",
       "    </tr>\n",
       "    <tr>\n",
       "      <th>3</th>\n",
       "      <td>A1</td>\n",
       "      <td>11</td>\n",
       "      <td>183839.61000</td>\n",
       "      <td>11</td>\n",
       "      <td>285729.090000</td>\n",
       "      <td>2954.794920</td>\n",
       "      <td>101889.480000</td>\n",
       "    </tr>\n",
       "    <tr>\n",
       "      <th>4</th>\n",
       "      <td>A10</td>\n",
       "      <td>1</td>\n",
       "      <td>173828.28250</td>\n",
       "      <td>1</td>\n",
       "      <td>283324.721667</td>\n",
       "      <td>3175.396736</td>\n",
       "      <td>109496.439167</td>\n",
       "    </tr>\n",
       "    <tr>\n",
       "      <th>...</th>\n",
       "      <td>...</td>\n",
       "      <td>...</td>\n",
       "      <td>...</td>\n",
       "      <td>...</td>\n",
       "      <td>...</td>\n",
       "      <td>...</td>\n",
       "      <td>...</td>\n",
       "    </tr>\n",
       "    <tr>\n",
       "      <th>426</th>\n",
       "      <td>A95</td>\n",
       "      <td>1</td>\n",
       "      <td>240401.50000</td>\n",
       "      <td>1</td>\n",
       "      <td>369405.960000</td>\n",
       "      <td>3741.129340</td>\n",
       "      <td>129004.460000</td>\n",
       "    </tr>\n",
       "    <tr>\n",
       "      <th>427</th>\n",
       "      <td>A96</td>\n",
       "      <td>1</td>\n",
       "      <td>54729.66000</td>\n",
       "      <td>1</td>\n",
       "      <td>100000.000000</td>\n",
       "      <td>1312.839860</td>\n",
       "      <td>45270.340000</td>\n",
       "    </tr>\n",
       "    <tr>\n",
       "      <th>428</th>\n",
       "      <td>A97</td>\n",
       "      <td>1</td>\n",
       "      <td>5000.00000</td>\n",
       "      <td>1</td>\n",
       "      <td>10000.000000</td>\n",
       "      <td>145.000000</td>\n",
       "      <td>5000.000000</td>\n",
       "    </tr>\n",
       "    <tr>\n",
       "      <th>429</th>\n",
       "      <td>A98</td>\n",
       "      <td>1</td>\n",
       "      <td>5000.50000</td>\n",
       "      <td>1</td>\n",
       "      <td>10001.000000</td>\n",
       "      <td>145.014500</td>\n",
       "      <td>5000.500000</td>\n",
       "    </tr>\n",
       "    <tr>\n",
       "      <th>430</th>\n",
       "      <td>A99</td>\n",
       "      <td>1</td>\n",
       "      <td>5001.00000</td>\n",
       "      <td>1</td>\n",
       "      <td>10002.000000</td>\n",
       "      <td>145.029000</td>\n",
       "      <td>5001.000000</td>\n",
       "    </tr>\n",
       "  </tbody>\n",
       "</table>\n",
       "<p>431 rows × 7 columns</p>\n",
       "</div>"
      ],
      "text/plain": [
       "    Customer  spend_month      Amount_x  repay_month       Amount_y  \\\n",
       "0         A1            1  341332.87700            1  325723.331000   \n",
       "1         A1            2  138421.15125            2  137713.785000   \n",
       "2         A1            4  261649.25000            4  254474.580000   \n",
       "3         A1           11  183839.61000           11  285729.090000   \n",
       "4        A10            1  173828.28250            1  283324.721667   \n",
       "..       ...          ...           ...          ...            ...   \n",
       "426      A95            1  240401.50000            1  369405.960000   \n",
       "427      A96            1   54729.66000            1  100000.000000   \n",
       "428      A97            1    5000.00000            1   10000.000000   \n",
       "429      A98            1    5000.50000            1   10001.000000   \n",
       "430      A99            1    5001.00000            1   10002.000000   \n",
       "\n",
       "          profit  monthly_profit  \n",
       "0            NaN   -15609.546000  \n",
       "1            NaN     -707.366250  \n",
       "2            NaN    -7174.670000  \n",
       "3    2954.794920   101889.480000  \n",
       "4    3175.396736   109496.439167  \n",
       "..           ...             ...  \n",
       "426  3741.129340   129004.460000  \n",
       "427  1312.839860    45270.340000  \n",
       "428   145.000000     5000.000000  \n",
       "429   145.014500     5000.500000  \n",
       "430   145.029000     5001.000000  \n",
       "\n",
       "[431 rows x 7 columns]"
      ]
     },
     "execution_count": 235,
     "metadata": {},
     "output_type": "execute_result"
    }
   ],
   "source": [
    "avg_cust['monthly_profit']=avg_cust.Amount_y-avg_cust.Amount_x\n",
    "avg_cust['profit']=np.where(avg_cust['monthly_profit']>0,avg_cust['monthly_profit']*2.9/100,np.nan)\n",
    "avg_cust"
   ]
  },
  {
   "cell_type": "code",
   "execution_count": 233,
   "id": "5dcfc3b8",
   "metadata": {},
   "outputs": [],
   "source": [
    "#f. What are the top 5 product types?"
   ]
  },
  {
   "cell_type": "code",
   "execution_count": 260,
   "id": "f4b1ab2e",
   "metadata": {},
   "outputs": [
    {
     "data": {
      "text/html": [
       "<div>\n",
       "<style scoped>\n",
       "    .dataframe tbody tr th:only-of-type {\n",
       "        vertical-align: middle;\n",
       "    }\n",
       "\n",
       "    .dataframe tbody tr th {\n",
       "        vertical-align: top;\n",
       "    }\n",
       "\n",
       "    .dataframe thead th {\n",
       "        text-align: right;\n",
       "    }\n",
       "</style>\n",
       "<table border=\"1\" class=\"dataframe\">\n",
       "  <thead>\n",
       "    <tr style=\"text-align: right;\">\n",
       "      <th></th>\n",
       "      <th>Type</th>\n",
       "      <th>Amount</th>\n",
       "    </tr>\n",
       "  </thead>\n",
       "  <tbody>\n",
       "    <tr>\n",
       "      <th>0</th>\n",
       "      <td>PETRO</td>\n",
       "      <td>27592366.41</td>\n",
       "    </tr>\n",
       "    <tr>\n",
       "      <th>1</th>\n",
       "      <td>CAMERA</td>\n",
       "      <td>25071444.58</td>\n",
       "    </tr>\n",
       "    <tr>\n",
       "      <th>2</th>\n",
       "      <td>FOOD</td>\n",
       "      <td>19030750.17</td>\n",
       "    </tr>\n",
       "    <tr>\n",
       "      <th>3</th>\n",
       "      <td>TRAIN TICKET</td>\n",
       "      <td>18986955.39</td>\n",
       "    </tr>\n",
       "    <tr>\n",
       "      <th>4</th>\n",
       "      <td>AIR TICKET</td>\n",
       "      <td>18031730.82</td>\n",
       "    </tr>\n",
       "  </tbody>\n",
       "</table>\n",
       "</div>"
      ],
      "text/plain": [
       "           Type       Amount\n",
       "0         PETRO  27592366.41\n",
       "1        CAMERA  25071444.58\n",
       "2          FOOD  19030750.17\n",
       "3  TRAIN TICKET  18986955.39\n",
       "4    AIR TICKET  18031730.82"
      ]
     },
     "execution_count": 260,
     "metadata": {},
     "output_type": "execute_result"
    }
   ],
   "source": [
    "cust_spend.groupby(['Type'])['Amount'].sum().sort_values(ascending=False).reset_index().loc[0:4]"
   ]
  },
  {
   "cell_type": "code",
   "execution_count": null,
   "id": "75bc0b90",
   "metadata": {},
   "outputs": [],
   "source": [
    "#g. Which city is having maximum spend?"
   ]
  },
  {
   "cell_type": "code",
   "execution_count": 266,
   "id": "47023660",
   "metadata": {},
   "outputs": [
    {
     "data": {
      "text/plain": [
       "City        CALCUTTA\n",
       "Amount    41108132.3\n",
       "Name: 0, dtype: object"
      ]
     },
     "execution_count": 266,
     "metadata": {},
     "output_type": "execute_result"
    }
   ],
   "source": [
    "cust_spend.groupby(['City'])['Amount'].sum().sort_values(ascending=False).reset_index().loc[0]"
   ]
  },
  {
   "cell_type": "code",
   "execution_count": null,
   "id": "f4328331",
   "metadata": {},
   "outputs": [],
   "source": [
    "#h. Which age group is spending more money?"
   ]
  },
  {
   "cell_type": "code",
   "execution_count": 294,
   "id": "9ee199bb",
   "metadata": {},
   "outputs": [],
   "source": [
    "age=cust_spend.groupby(['Age'])['Amount'].sum().reset_index()"
   ]
  },
  {
   "cell_type": "code",
   "execution_count": 307,
   "id": "958d960c",
   "metadata": {},
   "outputs": [],
   "source": [
    "age['Age_group']=pd.cut(age.Age,[18,25,65,80],labels=['young','middle_age','Seniors'])"
   ]
  },
  {
   "cell_type": "code",
   "execution_count": 312,
   "id": "17b54b9a",
   "metadata": {},
   "outputs": [
    {
     "data": {
      "text/plain": [
       "Age_group       Seniors\n",
       "Amount       37506828.2\n",
       "Name: 1, dtype: object"
      ]
     },
     "execution_count": 312,
     "metadata": {},
     "output_type": "execute_result"
    }
   ],
   "source": [
    "age.groupby(['Age_group'])['Amount'].sum().sort_values(ascending=True).reset_index().loc[1]\n"
   ]
  },
  {
   "cell_type": "code",
   "execution_count": 313,
   "id": "91223474",
   "metadata": {},
   "outputs": [],
   "source": [
    "#i. Who are the top 10 customers in terms of repayment?"
   ]
  },
  {
   "cell_type": "code",
   "execution_count": 317,
   "id": "5d7dcf70",
   "metadata": {},
   "outputs": [
    {
     "data": {
      "text/html": [
       "<div>\n",
       "<style scoped>\n",
       "    .dataframe tbody tr th:only-of-type {\n",
       "        vertical-align: middle;\n",
       "    }\n",
       "\n",
       "    .dataframe tbody tr th {\n",
       "        vertical-align: top;\n",
       "    }\n",
       "\n",
       "    .dataframe thead th {\n",
       "        text-align: right;\n",
       "    }\n",
       "</style>\n",
       "<table border=\"1\" class=\"dataframe\">\n",
       "  <thead>\n",
       "    <tr style=\"text-align: right;\">\n",
       "      <th></th>\n",
       "      <th>Customer</th>\n",
       "      <th>Amount</th>\n",
       "    </tr>\n",
       "  </thead>\n",
       "  <tbody>\n",
       "    <tr>\n",
       "      <th>0</th>\n",
       "      <td>A61</td>\n",
       "      <td>10539142.91</td>\n",
       "    </tr>\n",
       "    <tr>\n",
       "      <th>1</th>\n",
       "      <td>A60</td>\n",
       "      <td>9876290.74</td>\n",
       "    </tr>\n",
       "    <tr>\n",
       "      <th>2</th>\n",
       "      <td>A13</td>\n",
       "      <td>9572000.66</td>\n",
       "    </tr>\n",
       "    <tr>\n",
       "      <th>3</th>\n",
       "      <td>A43</td>\n",
       "      <td>8489871.46</td>\n",
       "    </tr>\n",
       "    <tr>\n",
       "      <th>4</th>\n",
       "      <td>A45</td>\n",
       "      <td>8448334.87</td>\n",
       "    </tr>\n",
       "    <tr>\n",
       "      <th>5</th>\n",
       "      <td>A12</td>\n",
       "      <td>8334760.16</td>\n",
       "    </tr>\n",
       "    <tr>\n",
       "      <th>6</th>\n",
       "      <td>A44</td>\n",
       "      <td>7744730.12</td>\n",
       "    </tr>\n",
       "    <tr>\n",
       "      <th>7</th>\n",
       "      <td>A39</td>\n",
       "      <td>7622483.30</td>\n",
       "    </tr>\n",
       "    <tr>\n",
       "      <th>8</th>\n",
       "      <td>A42</td>\n",
       "      <td>7615460.86</td>\n",
       "    </tr>\n",
       "    <tr>\n",
       "      <th>9</th>\n",
       "      <td>A38</td>\n",
       "      <td>7470956.35</td>\n",
       "    </tr>\n",
       "  </tbody>\n",
       "</table>\n",
       "</div>"
      ],
      "text/plain": [
       "  Customer       Amount\n",
       "0      A61  10539142.91\n",
       "1      A60   9876290.74\n",
       "2      A13   9572000.66\n",
       "3      A43   8489871.46\n",
       "4      A45   8448334.87\n",
       "5      A12   8334760.16\n",
       "6      A44   7744730.12\n",
       "7      A39   7622483.30\n",
       "8      A42   7615460.86\n",
       "9      A38   7470956.35"
      ]
     },
     "execution_count": 317,
     "metadata": {},
     "output_type": "execute_result"
    }
   ],
   "source": [
    "cust_repay.groupby('Customer')['Amount'].sum().sort_values(ascending=False).reset_index().iloc[0:10]"
   ]
  },
  {
   "cell_type": "code",
   "execution_count": null,
   "id": "ac577f83",
   "metadata": {},
   "outputs": [],
   "source": [
    "#3 . Calculate the city wise spend on each product on yearly basis. Also include a graphical representation for the same."
   ]
  },
  {
   "cell_type": "code",
   "execution_count": 383,
   "id": "ab07bee6",
   "metadata": {},
   "outputs": [
    {
     "data": {
      "text/html": [
       "<div>\n",
       "<style scoped>\n",
       "    .dataframe tbody tr th:only-of-type {\n",
       "        vertical-align: middle;\n",
       "    }\n",
       "\n",
       "    .dataframe tbody tr th {\n",
       "        vertical-align: top;\n",
       "    }\n",
       "\n",
       "    .dataframe thead tr th {\n",
       "        text-align: left;\n",
       "    }\n",
       "\n",
       "    .dataframe thead tr:last-of-type th {\n",
       "        text-align: right;\n",
       "    }\n",
       "</style>\n",
       "<table border=\"1\" class=\"dataframe\">\n",
       "  <thead>\n",
       "    <tr>\n",
       "      <th>Product</th>\n",
       "      <th colspan=\"3\" halign=\"left\">Gold</th>\n",
       "      <th colspan=\"3\" halign=\"left\">Platimum</th>\n",
       "      <th colspan=\"3\" halign=\"left\">Silver</th>\n",
       "    </tr>\n",
       "    <tr>\n",
       "      <th>Year</th>\n",
       "      <th>2004</th>\n",
       "      <th>2005</th>\n",
       "      <th>2006</th>\n",
       "      <th>2004</th>\n",
       "      <th>2005</th>\n",
       "      <th>2006</th>\n",
       "      <th>2004</th>\n",
       "      <th>2005</th>\n",
       "      <th>2006</th>\n",
       "    </tr>\n",
       "    <tr>\n",
       "      <th>City</th>\n",
       "      <th></th>\n",
       "      <th></th>\n",
       "      <th></th>\n",
       "      <th></th>\n",
       "      <th></th>\n",
       "      <th></th>\n",
       "      <th></th>\n",
       "      <th></th>\n",
       "      <th></th>\n",
       "    </tr>\n",
       "  </thead>\n",
       "  <tbody>\n",
       "    <tr>\n",
       "      <th>BANGALORE</th>\n",
       "      <td>7460145.61</td>\n",
       "      <td>8706615.03</td>\n",
       "      <td>9582502.52</td>\n",
       "      <td>1112732.30</td>\n",
       "      <td>912284.97</td>\n",
       "      <td>685831.27</td>\n",
       "      <td>1291852.58</td>\n",
       "      <td>830612.34</td>\n",
       "      <td>1415480.94</td>\n",
       "    </tr>\n",
       "    <tr>\n",
       "      <th>BOMBAY</th>\n",
       "      <td>6987853.53</td>\n",
       "      <td>8983018.28</td>\n",
       "      <td>7917144.31</td>\n",
       "      <td>897264.94</td>\n",
       "      <td>706804.44</td>\n",
       "      <td>967129.51</td>\n",
       "      <td>532089.03</td>\n",
       "      <td>508988.54</td>\n",
       "      <td>1092833.80</td>\n",
       "    </tr>\n",
       "    <tr>\n",
       "      <th>CALCUTTA</th>\n",
       "      <td>7477140.98</td>\n",
       "      <td>10303355.80</td>\n",
       "      <td>11167532.77</td>\n",
       "      <td>2037690.30</td>\n",
       "      <td>4434696.31</td>\n",
       "      <td>3589606.66</td>\n",
       "      <td>500006.00</td>\n",
       "      <td>440147.06</td>\n",
       "      <td>1157956.42</td>\n",
       "    </tr>\n",
       "    <tr>\n",
       "      <th>CHENNAI</th>\n",
       "      <td>1059618.50</td>\n",
       "      <td>3740945.58</td>\n",
       "      <td>2704288.62</td>\n",
       "      <td>3535652.38</td>\n",
       "      <td>5053956.32</td>\n",
       "      <td>5024923.40</td>\n",
       "      <td>282056.86</td>\n",
       "      <td>377184.49</td>\n",
       "      <td>350009.50</td>\n",
       "    </tr>\n",
       "    <tr>\n",
       "      <th>COCHIN</th>\n",
       "      <td>7315850.15</td>\n",
       "      <td>12110613.03</td>\n",
       "      <td>10234260.11</td>\n",
       "      <td>2199994.82</td>\n",
       "      <td>1278274.70</td>\n",
       "      <td>2748735.38</td>\n",
       "      <td>814229.62</td>\n",
       "      <td>652269.38</td>\n",
       "      <td>1269990.87</td>\n",
       "    </tr>\n",
       "    <tr>\n",
       "      <th>DELHI</th>\n",
       "      <td>2806495.00</td>\n",
       "      <td>1964845.27</td>\n",
       "      <td>2957103.32</td>\n",
       "      <td>283512.89</td>\n",
       "      <td>494157.86</td>\n",
       "      <td>176788.72</td>\n",
       "      <td>768172.30</td>\n",
       "      <td>612311.21</td>\n",
       "      <td>854899.97</td>\n",
       "    </tr>\n",
       "    <tr>\n",
       "      <th>PATNA</th>\n",
       "      <td>2072567.90</td>\n",
       "      <td>3252615.77</td>\n",
       "      <td>2276181.69</td>\n",
       "      <td>1113069.60</td>\n",
       "      <td>2883231.07</td>\n",
       "      <td>1256137.65</td>\n",
       "      <td>756684.10</td>\n",
       "      <td>950094.19</td>\n",
       "      <td>700005.00</td>\n",
       "    </tr>\n",
       "    <tr>\n",
       "      <th>TRIVANDRUM</th>\n",
       "      <td>2415102.84</td>\n",
       "      <td>1240375.85</td>\n",
       "      <td>2735710.87</td>\n",
       "      <td>2161676.67</td>\n",
       "      <td>3601443.30</td>\n",
       "      <td>2147403.75</td>\n",
       "      <td>200002.00</td>\n",
       "      <td>269912.99</td>\n",
       "      <td>505862.12</td>\n",
       "    </tr>\n",
       "  </tbody>\n",
       "</table>\n",
       "</div>"
      ],
      "text/plain": [
       "Product           Gold                              Platimum              \\\n",
       "Year              2004         2005         2006        2004        2005   \n",
       "City                                                                       \n",
       "BANGALORE   7460145.61   8706615.03   9582502.52  1112732.30   912284.97   \n",
       "BOMBAY      6987853.53   8983018.28   7917144.31   897264.94   706804.44   \n",
       "CALCUTTA    7477140.98  10303355.80  11167532.77  2037690.30  4434696.31   \n",
       "CHENNAI     1059618.50   3740945.58   2704288.62  3535652.38  5053956.32   \n",
       "COCHIN      7315850.15  12110613.03  10234260.11  2199994.82  1278274.70   \n",
       "DELHI       2806495.00   1964845.27   2957103.32   283512.89   494157.86   \n",
       "PATNA       2072567.90   3252615.77   2276181.69  1113069.60  2883231.07   \n",
       "TRIVANDRUM  2415102.84   1240375.85   2735710.87  2161676.67  3601443.30   \n",
       "\n",
       "Product                     Silver                         \n",
       "Year              2006        2004       2005        2006  \n",
       "City                                                       \n",
       "BANGALORE    685831.27  1291852.58  830612.34  1415480.94  \n",
       "BOMBAY       967129.51   532089.03  508988.54  1092833.80  \n",
       "CALCUTTA    3589606.66   500006.00  440147.06  1157956.42  \n",
       "CHENNAI     5024923.40   282056.86  377184.49   350009.50  \n",
       "COCHIN      2748735.38   814229.62  652269.38  1269990.87  \n",
       "DELHI        176788.72   768172.30  612311.21   854899.97  \n",
       "PATNA       1256137.65   756684.10  950094.19   700005.00  \n",
       "TRIVANDRUM  2147403.75   200002.00  269912.99   505862.12  "
      ]
     },
     "execution_count": 383,
     "metadata": {},
     "output_type": "execute_result"
    }
   ],
   "source": [
    "yearly=cust_spend.groupby(['City','Product','Month'])['Amount'].sum().reset_index()\n",
    "yearly['Year']=yearly.Month.apply(lambda x:x.year)\n",
    "year_spend=pd.pivot_table(data=yearly,index='City',columns=['Product','Year'],values='Amount',aggfunc='sum')\n",
    "year_spend\n"
   ]
  },
  {
   "cell_type": "code",
   "execution_count": 341,
   "id": "579f7f5d",
   "metadata": {},
   "outputs": [
    {
     "data": {
      "image/png": "[encoded data removed]",
      "text/plain": [
       "<Figure size 432x288 with 1 Axes>"
      ]
     },
     "metadata": {
      "needs_background": "light"
     },
     "output_type": "display_data"
    }
   ],
   "source": [
    "year_spend.plot(kind='bar',stacked=True)\n",
    "plt.show()"
   ]
  },
  {
   "cell_type": "code",
   "execution_count": null,
   "id": "24b904a0",
   "metadata": {},
   "outputs": [],
   "source": [
    "#4. Create graphs for\n",
    "#a. Monthly comparison of total spends, city wise"
   ]
  },
  {
   "cell_type": "code",
   "execution_count": 347,
   "id": "4325b1f8",
   "metadata": {},
   "outputs": [],
   "source": [
    "monthly=cust_spend.groupby(['City','Month'])['Amount'].sum().reset_index()\n",
    "monthly['Month']=monthly.Month.apply(lambda x:x.month)\n",
    "monthly_spend=pd.pivot_table(data=monthly,index='City',columns=['Month'],values='Amount',aggfunc='sum')"
   ]
  },
  {
   "cell_type": "code",
   "execution_count": 349,
   "id": "6a43b418",
   "metadata": {},
   "outputs": [
    {
     "data": {
      "image/png": "[encoded data removed]",
      "text/plain": [
       "<Figure size 432x288 with 1 Axes>"
      ]
     },
     "metadata": {
      "needs_background": "light"
     },
     "output_type": "display_data"
    }
   ],
   "source": [
    "monthly_spend.plot(kind='bar',stacked=True)\n",
    "plt.show()"
   ]
  },
  {
   "cell_type": "code",
   "execution_count": null,
   "id": "c18297b8",
   "metadata": {},
   "outputs": [],
   "source": [
    "#b. Comparison of yearly spend on air tickets"
   ]
  },
  {
   "cell_type": "code",
   "execution_count": 362,
   "id": "7b221f05",
   "metadata": {},
   "outputs": [
    {
     "data": {
      "text/html": [
       "<div>\n",
       "<style scoped>\n",
       "    .dataframe tbody tr th:only-of-type {\n",
       "        vertical-align: middle;\n",
       "    }\n",
       "\n",
       "    .dataframe tbody tr th {\n",
       "        vertical-align: top;\n",
       "    }\n",
       "\n",
       "    .dataframe thead th {\n",
       "        text-align: right;\n",
       "    }\n",
       "</style>\n",
       "<table border=\"1\" class=\"dataframe\">\n",
       "  <thead>\n",
       "    <tr style=\"text-align: right;\">\n",
       "      <th>Type</th>\n",
       "      <th>AIR TICKET</th>\n",
       "    </tr>\n",
       "    <tr>\n",
       "      <th>Year</th>\n",
       "      <th></th>\n",
       "    </tr>\n",
       "  </thead>\n",
       "  <tbody>\n",
       "    <tr>\n",
       "      <th>2004</th>\n",
       "      <td>3882511.22</td>\n",
       "    </tr>\n",
       "    <tr>\n",
       "      <th>2005</th>\n",
       "      <td>9284651.23</td>\n",
       "    </tr>\n",
       "    <tr>\n",
       "      <th>2006</th>\n",
       "      <td>4864568.37</td>\n",
       "    </tr>\n",
       "  </tbody>\n",
       "</table>\n",
       "</div>"
      ],
      "text/plain": [
       "Type  AIR TICKET\n",
       "Year            \n",
       "2004  3882511.22\n",
       "2005  9284651.23\n",
       "2006  4864568.37"
      ]
     },
     "execution_count": 362,
     "metadata": {},
     "output_type": "execute_result"
    }
   ],
   "source": [
    "air_tick=cust_spend.loc[cust_spend.Type=='AIR TICKET',['Month','Type','Amount']]\n",
    "air_tick['Year']=air_tick.Month.apply(lambda x:x.year)\n",
    "air_yearly=pd.pivot_table(data=air_tick,index='Year',columns=['Type'],values='Amount',aggfunc='sum')\n",
    "air_yearly"
   ]
  },
  {
   "cell_type": "code",
   "execution_count": 361,
   "id": "94995380",
   "metadata": {},
   "outputs": [
    {
     "data": {
      "image/png": "[encoded data removed]",
      "text/plain": [
       "<Figure size 432x288 with 1 Axes>"
      ]
     },
     "metadata": {
      "needs_background": "light"
     },
     "output_type": "display_data"
    }
   ],
   "source": [
    "air_yearly.plot(kind='bar',color='green')\n",
    "plt.show()"
   ]
  },
  {
   "cell_type": "code",
   "execution_count": null,
   "id": "5cc99eed",
   "metadata": {},
   "outputs": [],
   "source": [
    "# c.Comparison of monthly spend for each product (look for any seasonality that exists in terms of spend)"
   ]
  },
  {
   "cell_type": "code",
   "execution_count": 382,
   "id": "97dd597e",
   "metadata": {},
   "outputs": [
    {
     "data": {
      "image/png": "[encoded data removed]",
      "text/plain": [
       "<Figure size 432x288 with 1 Axes>"
      ]
     },
     "metadata": {
      "needs_background": "light"
     },
     "output_type": "display_data"
    }
   ],
   "source": [
    "prod_monthly=cust_spend.groupby(['Product','Month'])['Amount'].sum().reset_index()\n",
    "prod_monthly['Month']=prod_monthly.Month.apply(lambda x:x.month)\n",
    "prod=pd.pivot_table(data=prod_monthly,index=['Product'],columns=['Month'],values='Amount',aggfunc='sum')\n",
    "prod.plot(kind='bar')\n",
    "plt.show()\n"
   ]
  },
  {
   "cell_type": "code",
   "execution_count": null,
   "id": "5a53894d",
   "metadata": {},
   "outputs": [],
   "source": [
    "#5. Write user defined PYTHON function to perform the following analysis:\n",
    "#You need to find top 10 customers for each city in terms of their repayment amount by different products and by different time periods i.e. year or month. The user should be able to specify the product (Gold/Silver/Platinum) and time period (yearly or monthly) and the function should automatically take these inputs while identifying the top 10 customers."
   ]
  },
  {
   "cell_type": "code",
   "execution_count": 370,
   "id": "ec9604fc",
   "metadata": {},
   "outputs": [],
   "source": [
    "cust_repay['yearly']=cust_repay.Month.apply(lambda x:x.year)\n",
    "cust_repay['monthly']=cust_repay.Month.apply(lambda x:x.month)"
   ]
  },
  {
   "cell_type": "code",
   "execution_count": 378,
   "id": "649c42ac",
   "metadata": {},
   "outputs": [],
   "source": [
    "def top10_cust(product_cat,time_period):\n",
    "    product_cat=str(input(\"Please Enter Product Category and product category should be in Gold/Silver/Platinum: \"))\n",
    "    time_period=str(input('Please Enter Time Period and time period should be in yearly/monthly: '))\n",
    "\n",
    "    return cust_repay.loc[cust_repay.Product==product_cat].groupby(['Customer','City','Product',time_period])['Amount'].sum().reset_index().sort_values('Amount',ascending=False).head(10)"
   ]
  },
  {
   "cell_type": "code",
   "execution_count": 379,
   "id": "321e5841",
   "metadata": {},
   "outputs": [
    {
     "name": "stdout",
     "output_type": "stream",
     "text": [
      "Please Enter Product Category and product category should be in Gold/Silver/Platinum: Silver\n",
      "Please Enter Time Period and time period should be in yearly/monthly: monthly\n"
     ]
    },
    {
     "data": {
      "text/html": [
       "<div>\n",
       "<style scoped>\n",
       "    .dataframe tbody tr th:only-of-type {\n",
       "        vertical-align: middle;\n",
       "    }\n",
       "\n",
       "    .dataframe tbody tr th {\n",
       "        vertical-align: top;\n",
       "    }\n",
       "\n",
       "    .dataframe thead th {\n",
       "        text-align: right;\n",
       "    }\n",
       "</style>\n",
       "<table border=\"1\" class=\"dataframe\">\n",
       "  <thead>\n",
       "    <tr style=\"text-align: right;\">\n",
       "      <th></th>\n",
       "      <th>Customer</th>\n",
       "      <th>City</th>\n",
       "      <th>Product</th>\n",
       "      <th>monthly</th>\n",
       "      <th>Amount</th>\n",
       "    </tr>\n",
       "  </thead>\n",
       "  <tbody>\n",
       "    <tr>\n",
       "      <th>16</th>\n",
       "      <td>A22</td>\n",
       "      <td>BOMBAY</td>\n",
       "      <td>Silver</td>\n",
       "      <td>1</td>\n",
       "      <td>900000.00</td>\n",
       "    </tr>\n",
       "    <tr>\n",
       "      <th>57</th>\n",
       "      <td>A46</td>\n",
       "      <td>PATNA</td>\n",
       "      <td>Silver</td>\n",
       "      <td>1</td>\n",
       "      <td>713614.32</td>\n",
       "    </tr>\n",
       "    <tr>\n",
       "      <th>105</th>\n",
       "      <td>A8</td>\n",
       "      <td>PATNA</td>\n",
       "      <td>Silver</td>\n",
       "      <td>1</td>\n",
       "      <td>600012.00</td>\n",
       "    </tr>\n",
       "    <tr>\n",
       "      <th>3</th>\n",
       "      <td>A18</td>\n",
       "      <td>BANGALORE</td>\n",
       "      <td>Silver</td>\n",
       "      <td>3</td>\n",
       "      <td>600000.00</td>\n",
       "    </tr>\n",
       "    <tr>\n",
       "      <th>85</th>\n",
       "      <td>A6</td>\n",
       "      <td>DELHI</td>\n",
       "      <td>Silver</td>\n",
       "      <td>1</td>\n",
       "      <td>600000.00</td>\n",
       "    </tr>\n",
       "    <tr>\n",
       "      <th>91</th>\n",
       "      <td>A7</td>\n",
       "      <td>COCHIN</td>\n",
       "      <td>Silver</td>\n",
       "      <td>1</td>\n",
       "      <td>594009.28</td>\n",
       "    </tr>\n",
       "    <tr>\n",
       "      <th>47</th>\n",
       "      <td>A25</td>\n",
       "      <td>COCHIN</td>\n",
       "      <td>Silver</td>\n",
       "      <td>1</td>\n",
       "      <td>586332.08</td>\n",
       "    </tr>\n",
       "    <tr>\n",
       "      <th>67</th>\n",
       "      <td>A57</td>\n",
       "      <td>TRIVANDRUM</td>\n",
       "      <td>Silver</td>\n",
       "      <td>3</td>\n",
       "      <td>578549.42</td>\n",
       "    </tr>\n",
       "    <tr>\n",
       "      <th>51</th>\n",
       "      <td>A25</td>\n",
       "      <td>COCHIN</td>\n",
       "      <td>Silver</td>\n",
       "      <td>5</td>\n",
       "      <td>572616.74</td>\n",
       "    </tr>\n",
       "    <tr>\n",
       "      <th>58</th>\n",
       "      <td>A46</td>\n",
       "      <td>PATNA</td>\n",
       "      <td>Silver</td>\n",
       "      <td>2</td>\n",
       "      <td>544231.79</td>\n",
       "    </tr>\n",
       "  </tbody>\n",
       "</table>\n",
       "</div>"
      ],
      "text/plain": [
       "    Customer        City Product  monthly     Amount\n",
       "16       A22      BOMBAY  Silver        1  900000.00\n",
       "57       A46       PATNA  Silver        1  713614.32\n",
       "105       A8       PATNA  Silver        1  600012.00\n",
       "3        A18   BANGALORE  Silver        3  600000.00\n",
       "85        A6       DELHI  Silver        1  600000.00\n",
       "91        A7      COCHIN  Silver        1  594009.28\n",
       "47       A25      COCHIN  Silver        1  586332.08\n",
       "67       A57  TRIVANDRUM  Silver        3  578549.42\n",
       "51       A25      COCHIN  Silver        5  572616.74\n",
       "58       A46       PATNA  Silver        2  544231.79"
      ]
     },
     "execution_count": 379,
     "metadata": {},
     "output_type": "execute_result"
    }
   ],
   "source": [
    "top10_cust(product_cat,time_period)"
   ]
  },
  {
   "cell_type": "code",
   "execution_count": null,
   "id": "1f78f57a",
   "metadata": {},
   "outputs": [],
   "source": []
  }
 ],
 "metadata": {
  "kernelspec": {
   "display_name": "Python 3",
   "language": "python",
   "name": "python3"
  },
  "language_info": {
   "codemirror_mode": {
    "name": "ipython",
    "version": 3
   },
   "file_extension": ".py",
   "mimetype": "text/x-python",
   "name": "python",
   "nbconvert_exporter": "python",
   "pygments_lexer": "ipython3",
   "version": "3.8.8"
  }
 },
 "nbformat": 4,
 "nbformat_minor": 5
}
